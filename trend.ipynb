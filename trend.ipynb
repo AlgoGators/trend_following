{
 "cells": [
  {
   "cell_type": "markdown",
   "metadata": {},
   "source": [
    "# Divergent Strategy Exploration with defined Strategies "
   ]
  },
  {
   "cell_type": "code",
   "execution_count": 13,
   "metadata": {},
   "outputs": [],
   "source": [
    "# imports chapters 1 - 16\n",
    "from chapter1 import calculate_stats\n",
    "from chapter3 import standardDeviation\n",
    "from chapter4 import (\n",
    "    get_data_dict,\n",
    "    create_fx_series_given_adjusted_prices_dict,\n",
    "    calculate_variable_standard_deviation_for_risk_targeting_from_dict,\n",
    "    calculate_position_series_given_variable_risk_for_dict,\n",
    ")\n",
    "\n",
    "from chapter5 import calculate_perc_returns_for_dict_with_costs\n",
    "from chapter7 import calculate_forecast_for_ewmac\n",
    "from chapter8 import apply_buffering_to_position_dict\n",
    "from chapter9 import *\n",
    "\n",
    "import pandas as pd\n",
    "import numpy as np\n",
    "import matplotlib\n",
    "import matplotlib.pyplot as plt"
   ]
  },
  {
   "cell_type": "markdown",
   "metadata": {},
   "source": [
    "## Strategy 9: Multiple Trendlines\n",
    "Using the previously discussed methods of calculating exponential moving averages, we can create a strategy that uses multiple trendlines to determine when to buy and sell. We then use a capping method to the raw forecast of the trend signal combined with capital and risk management to determine the number of shares to buy or sell.\n"
   ]
  },
  {
   "cell_type": "markdown",
   "metadata": {},
   "source": [
    "### Instrument Selection\n",
    "- SP500\n",
    "- US 10 Year Treasury Yield\n",
    "- GAS FUTURES"
   ]
  },
  {
   "cell_type": "markdown",
   "metadata": {},
   "source": [
    "### Spans of Trends\n",
    "Typical spans are 16, 32, 64 as the fast. The slow is caculated by adding 2 logarthmic steps to the fast.\n",
    "$$ slow = fast * 2^2 $$\n",
    "$$ fast = 2^k, slow = 2^{k+2} $$"
   ]
  },
  {
   "cell_type": "markdown",
   "metadata": {},
   "source": [
    "### Defining Strategy Relevant Functions\n",
    "In the interest of saving time and space, I will import all other functions from previous chapters, however will include all functions that are relevant to the strategy below."
   ]
  },
  {
   "cell_type": "code",
   "execution_count": 17,
   "metadata": {},
   "outputs": [],
   "source": [
    "def calculate_position_dict_with_multiple_trend_forecast_applied(\n",
    "    adjusted_prices_dict: dict,\n",
    "    average_position_contracts_dict: dict,\n",
    "    std_dev_dict: dict,\n",
    "    fast_spans: list,\n",
    ") -> dict:\n",
    "\n",
    "    list_of_instruments = list(adjusted_prices_dict.keys())\n",
    "    position_dict_with_trend_filter = dict(\n",
    "        [\n",
    "            (\n",
    "                instrument_code,\n",
    "                calculate_position_with_multiple_trend_forecast_applied(\n",
    "                    adjusted_prices_dict[instrument_code],\n",
    "                    average_position_contracts_dict[instrument_code],\n",
    "                    stdev_ann_perc=std_dev_dict[instrument_code],\n",
    "                    fast_spans=fast_spans,\n",
    "                ),\n",
    "            )\n",
    "            for instrument_code in list_of_instruments\n",
    "        ]\n",
    "    )\n",
    "\n",
    "    return position_dict_with_trend_filter\n",
    "\n",
    "\n",
    "def calculate_position_with_multiple_trend_forecast_applied(\n",
    "    adjusted_price: pd.Series,\n",
    "    average_position: pd.Series,\n",
    "    stdev_ann_perc: standardDeviation,\n",
    "    fast_spans: list,\n",
    ") -> pd.Series:\n",
    "\n",
    "    forecast = calculate_combined_ewmac_forecast(\n",
    "        adjusted_price=adjusted_price,\n",
    "        stdev_ann_perc=stdev_ann_perc,\n",
    "        fast_spans=fast_spans,\n",
    "    )\n",
    "\n",
    "    return forecast * average_position / 10\n",
    "\n",
    "\n",
    "def calculate_combined_ewmac_forecast(\n",
    "    adjusted_price: pd.Series,\n",
    "    stdev_ann_perc: standardDeviation,\n",
    "    fast_spans: list,\n",
    ") -> pd.Series:\n",
    "\n",
    "    all_forecasts_as_list = [\n",
    "        calculate_forecast_for_ewmac(\n",
    "            adjusted_price=adjusted_price,\n",
    "            stdev_ann_perc=stdev_ann_perc,\n",
    "            fast_span=fast_span,\n",
    "        )\n",
    "        for fast_span in fast_spans\n",
    "    ]\n",
    "\n",
    "    ### NOTE: This assumes we are equally weighted across spans\n",
    "    ### eg all forecast weights the same, equally weighted\n",
    "    all_forecasts_as_df = pd.concat(all_forecasts_as_list, axis=1)\n",
    "    average_forecast = all_forecasts_as_df.mean(axis=1)\n",
    "\n",
    "    ## apply an FDM\n",
    "    rule_count = len(fast_spans)\n",
    "    FDM_DICT = {1: 1.0, 2: 1.03, 3: 1.08, 4: 1.13, 5: 1.19, 6: 1.26}\n",
    "    fdm = FDM_DICT[rule_count]\n",
    "\n",
    "    scaled_forecast = average_forecast * fdm\n",
    "    capped_forecast = scaled_forecast.clip(-20, 20)\n",
    "\n",
    "    return capped_forecast"
   ]
  },
  {
   "cell_type": "code",
   "execution_count": 4,
   "metadata": {},
   "outputs": [],
   "source": [
    "fast_spans = [16,32,64]"
   ]
  },
  {
   "cell_type": "code",
   "execution_count": 8,
   "metadata": {},
   "outputs": [],
   "source": [
    "## Bringing in SP500 futures\n",
    "\n",
    "adjusted_prices_dict, current_prices_dict = get_data_dict()\n",
    "multipliers = dict(sp500=5, us10=1000)\n",
    "risk_target_tau = 0.2\n",
    "\n",
    "fx_series_dict = create_fx_series_given_adjusted_prices_dict(adjusted_prices_dict)\n",
    "capital = 1000000\n",
    "idm = 1.5\n",
    "\n",
    "instrument_weights = dict(sp500=0.5, us10=0.5)\n",
    "cost_per_contract_dict = dict(sp500=0.875, us10=5)\n",
    "\n",
    "std_dev_dict = calculate_variable_standard_deviation_for_risk_targeting_from_dict(\n",
    "    adjusted_prices=adjusted_prices_dict, current_prices=current_prices_dict\n",
    ")\n",
    "\n",
    "average_position_contracts_dict = (\n",
    "    calculate_position_series_given_variable_risk_for_dict(\n",
    "        capital=capital,\n",
    "        risk_target_tau=risk_target_tau,\n",
    "        idm=idm,\n",
    "        weights=instrument_weights,\n",
    "        std_dev_dict=std_dev_dict,\n",
    "        fx_series_dict=fx_series_dict,\n",
    "        multipliers=multipliers,\n",
    "    )\n",
    ")"
   ]
  },
  {
   "cell_type": "markdown",
   "metadata": {},
   "source": [
    "The code above is primarily housekeeping work. It establishes risk targets, capital, and other hardcoded numbers as well as bringing in historical data."
   ]
  },
  {
   "cell_type": "code",
   "execution_count": 27,
   "metadata": {},
   "outputs": [
    {
     "name": "stderr",
     "output_type": "stream",
     "text": [
      "/home/crott/Documents/AlgoGators/trend-following/chapter8.py:85: FutureWarning: Series.__getitem__ treating keys as positions is deprecated. In a future version, integer keys will always be treated as labels (consistent with DataFrame behavior). To access a value by position, use `ser.iloc[pos]`\n",
      "  current_position = use_optimal_position[0]\n",
      "/home/crott/Documents/AlgoGators/trend-following/chapter8.py:94: FutureWarning: Series.__getitem__ treating keys as positions is deprecated. In a future version, integer keys will always be treated as labels (consistent with DataFrame behavior). To access a value by position, use `ser.iloc[pos]`\n",
      "  top_pos=upper_buffer[idx],\n",
      "/home/crott/Documents/AlgoGators/trend-following/chapter8.py:95: FutureWarning: Series.__getitem__ treating keys as positions is deprecated. In a future version, integer keys will always be treated as labels (consistent with DataFrame behavior). To access a value by position, use `ser.iloc[pos]`\n",
      "  bot_pos=lower_buffer[idx],\n",
      "/home/crott/Documents/AlgoGators/trend-following/chapter5.py:177: FutureWarning: Series.__getitem__ treating keys as positions is deprecated. In a future version, integer keys will always be treated as labels (consistent with DataFrame behavior). To access a value by position, use `ser.iloc[pos]`\n",
      "  final_stdev = stdev_daily_price[-1]\n"
     ]
    }
   ],
   "source": [
    "position_contracts_dict = (\n",
    "    calculate_position_dict_with_multiple_trend_forecast_applied(\n",
    "        adjusted_prices_dict=adjusted_prices_dict,\n",
    "        average_position_contracts_dict=average_position_contracts_dict,\n",
    "        std_dev_dict=std_dev_dict,\n",
    "        fast_spans=fast_spans,\n",
    "    )\n",
    ")\n",
    "    \n",
    "buffered_position_dict = apply_buffering_to_position_dict(\n",
    "    position_contracts_dict=position_contracts_dict,\n",
    "    average_position_contracts_dict=average_position_contracts_dict,\n",
    ")\n",
    "\n",
    "perc_return_dict = calculate_perc_returns_for_dict_with_costs(\n",
    "    position_contracts_dict=buffered_position_dict,\n",
    "    fx_series=fx_series_dict,\n",
    "    multipliers=multipliers,\n",
    "    capital=capital,\n",
    "    adjusted_prices=adjusted_prices_dict,\n",
    "    cost_per_contract_dict=cost_per_contract_dict,\n",
    "    std_dev_dict=std_dev_dict,\n",
    ")\n",
    "## FIXED DEPRECATED WAY TO REACH POSITION DICT"
   ]
  },
  {
   "cell_type": "code",
   "execution_count": 28,
   "metadata": {},
   "outputs": [
    {
     "name": "stdout",
     "output_type": "stream",
     "text": [
      "{'ann_mean': 0.07670379855733066, 'ann_std': 0.16948369149896184, 'sharpe_ratio': 0.4525733294981984, 'skew': -0.10320193199541221, 'avg_drawdown': 0.20774668802121116, 'max_drawdown': 0.5776817357807524, 'quant_ratio_lower': 2.501133102076955, 'quant_ratio_upper': 2.501133102076955}\n"
     ]
    }
   ],
   "source": [
    "print(calculate_stats(perc_return_dict[\"us10\"]))"
   ]
  },
  {
   "cell_type": "code",
   "execution_count": 29,
   "metadata": {},
   "outputs": [
    {
     "data": {
      "text/html": [
       "<div>\n",
       "<style scoped>\n",
       "    .dataframe tbody tr th:only-of-type {\n",
       "        vertical-align: middle;\n",
       "    }\n",
       "\n",
       "    .dataframe tbody tr th {\n",
       "        vertical-align: top;\n",
       "    }\n",
       "\n",
       "    .dataframe thead th {\n",
       "        text-align: right;\n",
       "    }\n",
       "</style>\n",
       "<table border=\"1\" class=\"dataframe\">\n",
       "  <thead>\n",
       "    <tr style=\"text-align: right;\">\n",
       "      <th></th>\n",
       "      <th>sp500</th>\n",
       "      <th>us10</th>\n",
       "    </tr>\n",
       "  </thead>\n",
       "  <tbody>\n",
       "    <tr>\n",
       "      <th>1982-09-16</th>\n",
       "      <td>-3.346614</td>\n",
       "      <td>0.321821</td>\n",
       "    </tr>\n",
       "    <tr>\n",
       "      <th>1982-09-17</th>\n",
       "      <td>-34.010185</td>\n",
       "      <td>0.464725</td>\n",
       "    </tr>\n",
       "    <tr>\n",
       "      <th>1982-09-20</th>\n",
       "      <td>-21.816418</td>\n",
       "      <td>0.714542</td>\n",
       "    </tr>\n",
       "    <tr>\n",
       "      <th>1982-09-21</th>\n",
       "      <td>18.079190</td>\n",
       "      <td>1.078945</td>\n",
       "    </tr>\n",
       "    <tr>\n",
       "      <th>1982-09-22</th>\n",
       "      <td>-0.612010</td>\n",
       "      <td>1.649941</td>\n",
       "    </tr>\n",
       "  </tbody>\n",
       "</table>\n",
       "</div>"
      ],
      "text/plain": [
       "                sp500      us10\n",
       "1982-09-16  -3.346614  0.321821\n",
       "1982-09-17 -34.010185  0.464725\n",
       "1982-09-20 -21.816418  0.714542\n",
       "1982-09-21  18.079190  1.078945\n",
       "1982-09-22  -0.612010  1.649941"
      ]
     },
     "execution_count": 29,
     "metadata": {},
     "output_type": "execute_result"
    }
   ],
   "source": [
    "position_contracts_df = pd.DataFrame.from_dict(position_contracts_dict) \n",
    "position_contracts_df.dropna(inplace=True)\n",
    "position_contracts_df.head()"
   ]
  },
  {
   "cell_type": "code",
   "execution_count": 30,
   "metadata": {},
   "outputs": [
    {
     "data": {
      "text/html": [
       "<div>\n",
       "<style scoped>\n",
       "    .dataframe tbody tr th:only-of-type {\n",
       "        vertical-align: middle;\n",
       "    }\n",
       "\n",
       "    .dataframe tbody tr th {\n",
       "        vertical-align: top;\n",
       "    }\n",
       "\n",
       "    .dataframe thead th {\n",
       "        text-align: right;\n",
       "    }\n",
       "</style>\n",
       "<table border=\"1\" class=\"dataframe\">\n",
       "  <thead>\n",
       "    <tr style=\"text-align: right;\">\n",
       "      <th></th>\n",
       "      <th>sp500</th>\n",
       "      <th>us10</th>\n",
       "    </tr>\n",
       "  </thead>\n",
       "  <tbody>\n",
       "    <tr>\n",
       "      <th>1982-09-23</th>\n",
       "      <td>0.0</td>\n",
       "      <td>-0.000005</td>\n",
       "    </tr>\n",
       "    <tr>\n",
       "      <th>1982-09-24</th>\n",
       "      <td>-0.0</td>\n",
       "      <td>-0.000531</td>\n",
       "    </tr>\n",
       "    <tr>\n",
       "      <th>1982-09-27</th>\n",
       "      <td>0.0</td>\n",
       "      <td>0.000063</td>\n",
       "    </tr>\n",
       "    <tr>\n",
       "      <th>1982-09-28</th>\n",
       "      <td>-0.0</td>\n",
       "      <td>0.000558</td>\n",
       "    </tr>\n",
       "    <tr>\n",
       "      <th>1982-09-29</th>\n",
       "      <td>-0.0</td>\n",
       "      <td>-0.000125</td>\n",
       "    </tr>\n",
       "    <tr>\n",
       "      <th>1982-09-30</th>\n",
       "      <td>-0.0</td>\n",
       "      <td>0.000683</td>\n",
       "    </tr>\n",
       "    <tr>\n",
       "      <th>1982-10-01</th>\n",
       "      <td>0.0</td>\n",
       "      <td>0.002812</td>\n",
       "    </tr>\n",
       "    <tr>\n",
       "      <th>1982-10-04</th>\n",
       "      <td>0.0</td>\n",
       "      <td>-0.003938</td>\n",
       "    </tr>\n",
       "    <tr>\n",
       "      <th>1982-10-05</th>\n",
       "      <td>-0.0</td>\n",
       "      <td>0.000750</td>\n",
       "    </tr>\n",
       "    <tr>\n",
       "      <th>1982-10-06</th>\n",
       "      <td>0.0</td>\n",
       "      <td>0.002625</td>\n",
       "    </tr>\n",
       "  </tbody>\n",
       "</table>\n",
       "</div>"
      ],
      "text/plain": [
       "            sp500      us10\n",
       "1982-09-23    0.0 -0.000005\n",
       "1982-09-24   -0.0 -0.000531\n",
       "1982-09-27    0.0  0.000063\n",
       "1982-09-28   -0.0  0.000558\n",
       "1982-09-29   -0.0 -0.000125\n",
       "1982-09-30   -0.0  0.000683\n",
       "1982-10-01    0.0  0.002812\n",
       "1982-10-04    0.0 -0.003938\n",
       "1982-10-05   -0.0  0.000750\n",
       "1982-10-06    0.0  0.002625"
      ]
     },
     "execution_count": 30,
     "metadata": {},
     "output_type": "execute_result"
    }
   ],
   "source": [
    "perc_return_df = pd.DataFrame.from_dict(perc_return_dict)\n",
    "perc_return_df.dropna(inplace=True)\n",
    "perc_return_df.head(10)"
   ]
  },
  {
   "cell_type": "markdown",
   "metadata": {},
   "source": [
    "#### Plotting Histograms of Returns\n",
    "- Plotting the histogram of returns for the SP500, US 10 Year Treasury Yield, and Gas Futures"
   ]
  },
  {
   "cell_type": "code",
   "execution_count": 35,
   "metadata": {},
   "outputs": [],
   "source": [
    "# Plorring percentage returns of the SP500 and US10Y futures\n",
    "plt.figure(1)\n",
    "plt.hist(perc_return_df[\"sp500\"],bins=500)\n",
    "plt.title(\"SP500 Returns\")\n",
    "plt.xlabel(\"Date\")\n",
    "plt.ylabel(\"Percentage Return\")\n",
    "plt.figure(2)\n",
    "plt.hist(perc_return_df[\"us10\"], bins=500)\n",
    "plt.title(\"US10 Returns\")\n",
    "plt.xlabel(\"Date\")\n",
    "plt.ylabel(\"Percentage Return\")\n",
    "\n",
    "plt.show()"
   ]
  }
 ],
 "metadata": {
  "kernelspec": {
   "display_name": "algo",
   "language": "python",
   "name": "python3"
  },
  "language_info": {
   "codemirror_mode": {
    "name": "ipython",
    "version": 3
   },
   "file_extension": ".py",
   "mimetype": "text/x-python",
   "name": "python",
   "nbconvert_exporter": "python",
   "pygments_lexer": "ipython3",
   "version": "3.12.0"
  }
 },
 "nbformat": 4,
 "nbformat_minor": 2
}
