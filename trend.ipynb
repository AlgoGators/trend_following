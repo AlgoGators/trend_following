{
 "cells": [
  {
   "cell_type": "markdown",
   "metadata": {},
   "source": [
    "# Divergent Strategy Exploration with defined Strategies "
   ]
  },
  {
   "cell_type": "code",
   "execution_count": 1,
   "metadata": {},
   "outputs": [],
   "source": [
    "# imports chapters 1 - 16\n",
    "from downloaded_chapters import *\n",
    "import pandas as pd\n",
    "import numpy as np"
   ]
  },
  {
   "cell_type": "markdown",
   "metadata": {},
   "source": [
    "## Strategy 9: Multiple Trendlines\n",
    "Using the previously discussed methods of calculating exponential moving averages, we can create a strategy that uses multiple trendlines to determine when to buy and sell. We then use a capping method to the raw forecast of the trend signal combined with capital and risk management to determine the number of shares to buy or sell.\n",
    "\n",
    "### Instrument Selection\n",
    "- SP500\n",
    "- US 10 Year Treasury Yield\n",
    "- GAS FUTURES"
   ]
  },
  {
   "cell_type": "code",
   "execution_count": null,
   "metadata": {},
   "outputs": [],
   "source": []
  }
 ],
 "metadata": {
  "kernelspec": {
   "display_name": "algo",
   "language": "python",
   "name": "python3"
  },
  "language_info": {
   "codemirror_mode": {
    "name": "ipython",
    "version": 3
   },
   "file_extension": ".py",
   "mimetype": "text/x-python",
   "name": "python",
   "nbconvert_exporter": "python",
   "pygments_lexer": "ipython3",
   "version": "3.12.0"
  }
 },
 "nbformat": 4,
 "nbformat_minor": 2
}
