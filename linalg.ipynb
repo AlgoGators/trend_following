{
 "cells": [
  {
   "cell_type": "code",
   "execution_count": 4,
   "metadata": {},
   "outputs": [],
   "source": [
    "import numpy as np\n",
    "import pandas as pd"
   ]
  },
  {
   "cell_type": "code",
   "execution_count": 11,
   "metadata": {},
   "outputs": [
    {
     "data": {
      "text/plain": [
       "2.449489742783178"
      ]
     },
     "execution_count": 11,
     "metadata": {},
     "output_type": "execute_result"
    }
   ],
   "source": [
    "isotropic_n = []\n",
    "for i in range(1,7):\n",
    "    isotropic_n.append(np.eye(i))\n",
    "\n",
    "iso6 = np.eye(6)\n",
    "# Find forecast diversification multiplier which should be the square root of the sum of the squares of the weights\n",
    "np.sqrt(np.sum(iso6**2))"
   ]
  },
  {
   "cell_type": "code",
   "execution_count": 17,
   "metadata": {},
   "outputs": [
    {
     "data": {
      "text/plain": [
       "1.2392885771580415"
      ]
     },
     "execution_count": 17,
     "metadata": {},
     "output_type": "execute_result"
    }
   ],
   "source": [
    "actual_correlation_matrix = np.array([[1.00, 0.88, 0.64, 0.40, 0.23, 0.12],\n",
    "                                      [0.88, 1.00, 0.88, 0.62, 0.40, 0.24],\n",
    "                                      [0.64, 0.88, 1.00, 0.85, 0.64, 0.42],\n",
    "                                      [0.40, 0.62, 0.85, 1.00, 0.86, 0.65],\n",
    "                                      [0.23, 0.40, 0.64, 0.86, 1.00, 0.89],\n",
    "                                      [0.12, 0.24, 0.42, 0.65, 0.89, 1.00]])\n",
    "\n",
    "# Find the forecast diversification multiplier for the actual correlation matrix\n",
    "# All weights are equal\n",
    "w = np.array([1/6, 1/6, 1/6, 1/6, 1/6, 1/6])\n",
    "\n",
    "1 / np.sqrt(np.dot(w.T, np.dot(actual_correlation_matrix, w)))"
   ]
  }
 ],
 "metadata": {
  "kernelspec": {
   "display_name": "algo",
   "language": "python",
   "name": "python3"
  },
  "language_info": {
   "codemirror_mode": {
    "name": "ipython",
    "version": 3
   },
   "file_extension": ".py",
   "mimetype": "text/x-python",
   "name": "python",
   "nbconvert_exporter": "python",
   "pygments_lexer": "ipython3",
   "version": "3.11.5"
  }
 },
 "nbformat": 4,
 "nbformat_minor": 2
}
